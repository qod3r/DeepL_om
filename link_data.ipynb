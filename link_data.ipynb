{
 "cells": [
  {
   "cell_type": "code",
   "execution_count": 4,
   "metadata": {},
   "outputs": [
    {
     "name": "stdout",
     "output_type": "stream",
     "text": [
      "CT-0 содержит 0 связанных пар КТ-снимков и масок.\n",
      "CT-0 содержит 254 КТ-снимков без маски.\n",
      "CT-1 содержит 50 связанных пар КТ-снимков и масок.\n",
      "CT-1 содержит 634 КТ-снимков без маски.\n",
      "CT-2 содержит 0 связанных пар КТ-снимков и масок.\n",
      "CT-2 содержит 125 КТ-снимков без маски.\n",
      "CT-3 содержит 0 связанных пар КТ-снимков и масок.\n",
      "CT-3 содержит 45 КТ-снимков без маски.\n",
      "CT-4 содержит 0 связанных пар КТ-снимков и масок.\n",
      "CT-4 содержит 2 КТ-снимков без маски.\n"
     ]
    }
   ],
   "source": [
    "import os\n",
    "import glob\n",
    "\n",
    "def make_dataset(studies_folder, masks_folder):\n",
    "    \"\"\"Создает набор данных, который связывает КТ-снимки и их маски.\n",
    "\n",
    "    Аргументы:\n",
    "        `studies_folder`: путь к папке, содержащей КТ-снимки.\n",
    "        `masks_folder`: путь к папке, содержащей маски.\n",
    "\n",
    "    Возвращает:\n",
    "        Список кортежей, где каждый кортеж содержит путь к КТ-снимку и путь\n",
    "        к его соответствующей маске.\n",
    "    \"\"\"\n",
    "\n",
    "    # Получаем список всех КТ-снимков.\n",
    "    studies_paths = glob.glob(os.path.join(studies_folder, \"*.nii.gz\"))\n",
    "\n",
    "    # Создаем список для хранения связанных путей КТ-снимка и масок.\n",
    "    linked_paths = []\n",
    "\n",
    "    # Перебираем КТ-снимки.\n",
    "    for study_path in studies_paths:\n",
    "\n",
    "        # Получаем имя файла КТ-снимка.\n",
    "        study_filename = os.path.basename(study_path)\n",
    "\n",
    "        # Получаем соответствующее имя файла маски.\n",
    "        fname = study_filename.split(\".\")\n",
    "        fname[0] += \"_mask\"\n",
    "        mask_filename = \".\".join(fname)\n",
    "        mask_path = os.path.join(masks_folder, mask_filename)\n",
    "\n",
    "        # Проверяем, существует ли файл маски.\n",
    "        if os.path.exists(mask_path):\n",
    "            # Добавляем пути КТ-снимка и маски в список связанных путей.\n",
    "            linked_paths.append((study_path, mask_path))\n",
    "        else:\n",
    "            linked_paths.append((study_path, None))\n",
    "\n",
    "    return linked_paths\n",
    "\n",
    "if __name__ == \"__main__\":\n",
    "\n",
    "    # Получаем пути к папкам с исследованиями и масками.\n",
    "    masks_folder = \"data/masks/\"\n",
    "    linked_paths = []\n",
    "    for i in range(5):\n",
    "        studies_folder = f\"data/studies/CT-{i}\"\n",
    "        # Создаем набор данных.\n",
    "        linked_paths.append(make_dataset(studies_folder, masks_folder))\n",
    "\n",
    "    # Печатаем длину набора данных.\n",
    "    for i in range(5):\n",
    "        print(f\"CT-{i} содержит {sum([1 if a[1] is not None else 0 for a in linked_paths[i]])} связанных пар КТ-снимков и масок.\")\n",
    "        print(f\"CT-{i} содержит {sum([0 if a[1] is not None else 1 for a in linked_paths[i]])} КТ-снимков без маски.\")\n",
    "#   from pprint import pprint\n",
    "#   pprint(linked_paths)\n"
   ]
  }
 ],
 "metadata": {
  "kernelspec": {
   "display_name": ".venv",
   "language": "python",
   "name": "python3"
  },
  "language_info": {
   "codemirror_mode": {
    "name": "ipython",
    "version": 3
   },
   "file_extension": ".py",
   "mimetype": "text/x-python",
   "name": "python",
   "nbconvert_exporter": "python",
   "pygments_lexer": "ipython3",
   "version": "3.12.0"
  }
 },
 "nbformat": 4,
 "nbformat_minor": 2
}
